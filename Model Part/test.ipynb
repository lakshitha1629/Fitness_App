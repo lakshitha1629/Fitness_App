{
 "cells": [
  {
   "cell_type": "code",
   "execution_count": 1,
   "id": "a0eb7e80",
   "metadata": {},
   "outputs": [],
   "source": [
    "import pickle\n",
    "import pandas as pd\n",
    "import json"
   ]
  },
  {
   "cell_type": "code",
   "execution_count": 2,
   "id": "ffa86055",
   "metadata": {},
   "outputs": [],
   "source": [
    "def predict_mpg(config):\n",
    "    ##loading the model from the saved file\n",
    "    pkl_filename = \"model.pkl\"\n",
    "    with open(pkl_filename, 'rb') as f_in:\n",
    "        model = pickle.load(f_in)\n",
    "\n",
    "    if type(config) == dict:\n",
    "        df = pd.DataFrame(config)\n",
    "    else:\n",
    "        df = config\n",
    "    \n",
    "    y_pred = model.predict(df)\n",
    "    if y_pred == 0:\n",
    "        return y_pred,'Extremely Weak'\n",
    "    elif y_pred == 1:\n",
    "        return y_pred,'Weak'\n",
    "    elif y_pred == 2:\n",
    "        return y_pred,'Normal'\n",
    "    elif y_pred == 3:\n",
    "        return y_pred,'Overweight'\n",
    "    elif y_pred == 4:\n",
    "        return y_pred,'Obesity'\n",
    "    elif y_pred == 5:\n",
    "        return y_pred,'Extreme Obesity'"
   ]
  },
  {
   "cell_type": "code",
   "execution_count": 3,
   "id": "377a780b",
   "metadata": {},
   "outputs": [
    {
     "data": {
      "text/plain": [
       "(array([5], dtype=int64), 'Extreme Obesity')"
      ]
     },
     "execution_count": 3,
     "metadata": {},
     "output_type": "execute_result"
    }
   ],
   "source": [
    "config = {\n",
    "    'Gender': [1],\n",
    "    'Height': [177],\n",
    "    'Weight': [188]\n",
    "}\n",
    "predict_mpg(config)"
   ]
  },
  {
   "cell_type": "code",
   "execution_count": null,
   "id": "14686d87",
   "metadata": {},
   "outputs": [],
   "source": []
  }
 ],
 "metadata": {
  "kernelspec": {
   "display_name": "Python 3",
   "language": "python",
   "name": "python3"
  },
  "language_info": {
   "codemirror_mode": {
    "name": "ipython",
    "version": 3
   },
   "file_extension": ".py",
   "mimetype": "text/x-python",
   "name": "python",
   "nbconvert_exporter": "python",
   "pygments_lexer": "ipython3",
   "version": "3.6.13"
  }
 },
 "nbformat": 4,
 "nbformat_minor": 5
}
